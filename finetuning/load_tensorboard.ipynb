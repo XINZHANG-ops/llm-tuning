{
 "cells": [
  {
   "cell_type": "code",
   "execution_count": 1,
   "id": "220f0f1a-37e5-4204-bc8e-63f27b491d0c",
   "metadata": {
    "ExecuteTime": {
     "end_time": "2023-09-30T01:18:03.565420600Z",
     "start_time": "2023-09-30T01:18:03.434601100Z"
    }
   },
   "outputs": [],
   "source": [
    "%load_ext tensorboard"
   ]
  },
  {
   "cell_type": "code",
   "execution_count": 2,
   "id": "1b958bb8-3263-47ba-8c5a-536a3b171ae2",
   "metadata": {
    "ExecuteTime": {
     "end_time": "2023-09-30T01:18:43.131466800Z",
     "start_time": "2023-09-30T01:18:37.928483300Z"
    }
   },
   "outputs": [
    {
     "data": {
      "text/plain": "Launching TensorBoard..."
     },
     "metadata": {},
     "output_type": "display_data"
    }
   ],
   "source": [
    "%tensorboard --logdir=notebooks/llama2_results/runs\n"
   ]
  },
  {
   "cell_type": "code",
   "execution_count": null,
   "id": "fec4afb1-9903-4f1a-8720-dcfd8319521e",
   "metadata": {},
   "outputs": [],
   "source": []
  }
 ],
 "metadata": {
  "environment": {
   "kernel": "python3",
   "name": "common-cu113.m109",
   "type": "gcloud",
   "uri": "gcr.io/deeplearning-platform-release/base-cu113:m109"
  },
  "kernelspec": {
   "display_name": "Python 3",
   "language": "python",
   "name": "python3"
  },
  "language_info": {
   "codemirror_mode": {
    "name": "ipython",
    "version": 3
   },
   "file_extension": ".py",
   "mimetype": "text/x-python",
   "name": "python",
   "nbconvert_exporter": "python",
   "pygments_lexer": "ipython3",
   "version": "3.10.11"
  }
 },
 "nbformat": 4,
 "nbformat_minor": 5
}
